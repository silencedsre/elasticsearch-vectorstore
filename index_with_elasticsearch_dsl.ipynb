{
 "cells": [
  {
   "cell_type": "code",
   "execution_count": 1,
   "id": "1fcdb863-4f13-4c80-ba6c-90601439f592",
   "metadata": {},
   "outputs": [
    {
     "name": "stdout",
     "output_type": "stream",
     "text": [
      "Collecting elasticsearch-dsl\n",
      "  Downloading elasticsearch_dsl-8.12.0-py3-none-any.whl.metadata (10 kB)\n",
      "Requirement already satisfied: python-dateutil in /home/shree/miniconda3/lib/python3.11/site-packages (from elasticsearch-dsl) (2.8.2)\n",
      "Requirement already satisfied: elasticsearch<9.0.0,>=8.0.0 in /home/shree/miniconda3/lib/python3.11/site-packages (from elasticsearch-dsl) (8.12.0)\n",
      "Requirement already satisfied: elastic-transport<9,>=8 in /home/shree/miniconda3/lib/python3.11/site-packages (from elasticsearch<9.0.0,>=8.0.0->elasticsearch-dsl) (8.12.0)\n",
      "Requirement already satisfied: six>=1.5 in /home/shree/miniconda3/lib/python3.11/site-packages (from python-dateutil->elasticsearch-dsl) (1.16.0)\n",
      "Requirement already satisfied: urllib3<3,>=1.26.2 in /home/shree/miniconda3/lib/python3.11/site-packages (from elastic-transport<9,>=8->elasticsearch<9.0.0,>=8.0.0->elasticsearch-dsl) (1.26.18)\n",
      "Requirement already satisfied: certifi in /home/shree/miniconda3/lib/python3.11/site-packages (from elastic-transport<9,>=8->elasticsearch<9.0.0,>=8.0.0->elasticsearch-dsl) (2023.11.17)\n",
      "Downloading elasticsearch_dsl-8.12.0-py3-none-any.whl (63 kB)\n",
      "\u001b[2K   \u001b[38;2;114;156;31m━━━━━━━━━━━━━━━━━━━━━━━━━━━━━━━━━━━━━━━━\u001b[0m \u001b[32m64.0/64.0 kB\u001b[0m \u001b[31m1.0 MB/s\u001b[0m eta \u001b[36m0:00:00\u001b[0m MB/s\u001b[0m eta \u001b[36m0:00:01\u001b[0m\n",
      "\u001b[?25hInstalling collected packages: elasticsearch-dsl\n",
      "Successfully installed elasticsearch-dsl-8.12.0\n"
     ]
    }
   ],
   "source": [
    "!pip install elasticsearch-dsl"
   ]
  },
  {
   "cell_type": "code",
   "execution_count": 1,
   "id": "c86c843c-8147-4342-967b-18360d099ee8",
   "metadata": {},
   "outputs": [],
   "source": [
    "import pandas as pd\n",
    "from elasticsearch.helpers import bulk\n",
    "from elasticsearch_dsl import Document, Integer, Text, connections"
   ]
  },
  {
   "cell_type": "code",
   "execution_count": 2,
   "id": "44da230f-17ca-4f5c-8c82-dcd92316c508",
   "metadata": {},
   "outputs": [
    {
     "data": {
      "text/html": [
       "<div>\n",
       "<style scoped>\n",
       "    .dataframe tbody tr th:only-of-type {\n",
       "        vertical-align: middle;\n",
       "    }\n",
       "\n",
       "    .dataframe tbody tr th {\n",
       "        vertical-align: top;\n",
       "    }\n",
       "\n",
       "    .dataframe thead th {\n",
       "        text-align: right;\n",
       "    }\n",
       "</style>\n",
       "<table border=\"1\" class=\"dataframe\">\n",
       "  <thead>\n",
       "    <tr style=\"text-align: right;\">\n",
       "      <th></th>\n",
       "      <th>id</th>\n",
       "      <th>content</th>\n",
       "    </tr>\n",
       "  </thead>\n",
       "  <tbody>\n",
       "    <tr>\n",
       "      <th>0</th>\n",
       "      <td>7130104</td>\n",
       "      <td>This is the definition of RNA along with examp...</td>\n",
       "    </tr>\n",
       "    <tr>\n",
       "      <th>1</th>\n",
       "      <td>7130335</td>\n",
       "      <td>Best Answer: The AR designation comes from the...</td>\n",
       "    </tr>\n",
       "    <tr>\n",
       "      <th>2</th>\n",
       "      <td>7130336</td>\n",
       "      <td>What does AR really mean? Posted by Quality AR...</td>\n",
       "    </tr>\n",
       "    <tr>\n",
       "      <th>3</th>\n",
       "      <td>7130348</td>\n",
       "      <td>Oxycontin is generally prescribed without acet...</td>\n",
       "    </tr>\n",
       "    <tr>\n",
       "      <th>4</th>\n",
       "      <td>8001869</td>\n",
       "      <td>STRATEGIC FEDERAL CREDIT UNION Routing number ...</td>\n",
       "    </tr>\n",
       "  </tbody>\n",
       "</table>\n",
       "</div>"
      ],
      "text/plain": [
       "        id                                            content\n",
       "0  7130104  This is the definition of RNA along with examp...\n",
       "1  7130335  Best Answer: The AR designation comes from the...\n",
       "2  7130336  What does AR really mean? Posted by Quality AR...\n",
       "3  7130348  Oxycontin is generally prescribed without acet...\n",
       "4  8001869  STRATEGIC FEDERAL CREDIT UNION Routing number ..."
      ]
     },
     "execution_count": 2,
     "metadata": {},
     "output_type": "execute_result"
    }
   ],
   "source": [
    "data_path = \"data/Sample_trec_1000.tsv\"\n",
    "df = pd.read_csv(data_path, header=None, delimiter=',')\n",
    "new_column_names = ['0', 'id', 'content']\n",
    "df.columns = new_column_names\n",
    "df = df[['id', 'content']]\n",
    "df.head()"
   ]
  },
  {
   "cell_type": "code",
   "execution_count": 31,
   "id": "9e7e1ed2-14cb-46ac-8a9c-f0424283fbc9",
   "metadata": {},
   "outputs": [],
   "source": [
    "# Define a default Elasticsearch client\n",
    "connections.create_connection(hosts=\"http://localhost:9200\")\n",
    "\n",
    "class SampleTrec(Document):\n",
    "    id = Integer()\n",
    "    content = Text(analyzer='snowball')\n",
    "\n",
    "    class Index:\n",
    "        name = 'sample-trec'\n",
    "        settings = {\n",
    "          \"number_of_shards\": 1,\n",
    "        }\n",
    "\n",
    "    def save(self, ** kwargs):\n",
    "        return super(SampleTrec, self).save(** kwargs)\n",
    "\n",
    "# create the mappings in elasticsearch\n",
    "SampleTrec.init()"
   ]
  },
  {
   "cell_type": "code",
   "execution_count": 32,
   "id": "9a92e6d6-a74d-406a-8fb4-a46b93301167",
   "metadata": {},
   "outputs": [
    {
     "name": "stdout",
     "output_type": "stream",
     "text": [
      "Indexed 1001 documents successfully.\n"
     ]
    }
   ],
   "source": [
    "# Prepare documents for bulk saving\n",
    "actions = []\n",
    "for index, row in df.iterrows():\n",
    "    action = {\n",
    "        \"_op_type\": \"index\",  # operation type\n",
    "        \"_index\": \"sample-trec\",  # index name\n",
    "        \"_id\": row['id'],  # document ID\n",
    "        \"_source\": {  # document body\n",
    "            \"content\": row['content'],\n",
    "            \"id\": row[\"id\"]\n",
    "            # add more fields as needed\n",
    "        }\n",
    "    }\n",
    "    actions.append(action)\n",
    "\n",
    "# Perform bulk saving\n",
    "success, _ = bulk(connections.get_connection(), actions)\n",
    "\n",
    "print(f\"Indexed {success} documents successfully.\")"
   ]
  },
  {
   "cell_type": "code",
   "execution_count": null,
   "id": "68c5cf79-d592-418b-81d8-8b446a280fc5",
   "metadata": {},
   "outputs": [],
   "source": []
  }
 ],
 "metadata": {
  "kernelspec": {
   "display_name": "Python 3 (ipykernel)",
   "language": "python",
   "name": "python3"
  },
  "language_info": {
   "codemirror_mode": {
    "name": "ipython",
    "version": 3
   },
   "file_extension": ".py",
   "mimetype": "text/x-python",
   "name": "python",
   "nbconvert_exporter": "python",
   "pygments_lexer": "ipython3",
   "version": "3.11.5"
  }
 },
 "nbformat": 4,
 "nbformat_minor": 5
}
